{
  "nbformat": 4,
  "nbformat_minor": 0,
  "metadata": {
    "colab": {
      "provenance": []
    },
    "kernelspec": {
      "name": "python3",
      "display_name": "Python 3"
    },
    "language_info": {
      "name": "python"
    }
  },
  "cells": [
    {
      "cell_type": "code",
      "execution_count": 100,
      "metadata": {
        "colab": {
          "base_uri": "https://localhost:8080/",
          "height": 550
        },
        "id": "Oq6PiB4SmicA",
        "outputId": "cfd34528-9bea-4eaa-82aa-6ecc18369757"
      },
      "outputs": [
        {
          "output_type": "error",
          "ename": "ImportError",
          "evalue": "cannot import name '_despine' from 'sklearn.utils._plotting' (/usr/local/lib/python3.11/dist-packages/sklearn/utils/_plotting.py)",
          "traceback": [
            "\u001b[0;31m---------------------------------------------------------------------------\u001b[0m",
            "\u001b[0;31mImportError\u001b[0m                               Traceback (most recent call last)",
            "\u001b[0;32m<ipython-input-100-ddc45228d351>\u001b[0m in \u001b[0;36m<cell line: 0>\u001b[0;34m()\u001b[0m\n\u001b[1;32m      3\u001b[0m \u001b[0;32mimport\u001b[0m \u001b[0mseaborn\u001b[0m \u001b[0;32mas\u001b[0m \u001b[0msns\u001b[0m\u001b[0;34m\u001b[0m\u001b[0;34m\u001b[0m\u001b[0m\n\u001b[1;32m      4\u001b[0m \u001b[0;32mimport\u001b[0m \u001b[0mmatplotlib\u001b[0m\u001b[0;34m.\u001b[0m\u001b[0mpyplot\u001b[0m \u001b[0;32mas\u001b[0m \u001b[0mplt\u001b[0m\u001b[0;34m\u001b[0m\u001b[0;34m\u001b[0m\u001b[0m\n\u001b[0;32m----> 5\u001b[0;31m \u001b[0;32mfrom\u001b[0m \u001b[0msklearn\u001b[0m\u001b[0;34m.\u001b[0m\u001b[0mmodel_selection\u001b[0m \u001b[0;32mimport\u001b[0m \u001b[0mtrain_test_split\u001b[0m\u001b[0;34m\u001b[0m\u001b[0;34m\u001b[0m\u001b[0m\n\u001b[0m\u001b[1;32m      6\u001b[0m \u001b[0;32mfrom\u001b[0m \u001b[0mgoogle\u001b[0m\u001b[0;34m.\u001b[0m\u001b[0mcolab\u001b[0m \u001b[0;32mimport\u001b[0m \u001b[0mdrive\u001b[0m\u001b[0;34m\u001b[0m\u001b[0;34m\u001b[0m\u001b[0m\n\u001b[1;32m      7\u001b[0m \u001b[0mdrive\u001b[0m\u001b[0;34m.\u001b[0m\u001b[0mmount\u001b[0m\u001b[0;34m(\u001b[0m\u001b[0;34m'/content/drive'\u001b[0m\u001b[0;34m)\u001b[0m\u001b[0;34m\u001b[0m\u001b[0;34m\u001b[0m\u001b[0m\n",
            "\u001b[0;32m/usr/local/lib/python3.11/dist-packages/sklearn/model_selection/__init__.py\u001b[0m in \u001b[0;36m<module>\u001b[0;34m\u001b[0m\n\u001b[1;32m      6\u001b[0m \u001b[0;32mimport\u001b[0m \u001b[0mtyping\u001b[0m\u001b[0;34m\u001b[0m\u001b[0;34m\u001b[0m\u001b[0m\n\u001b[1;32m      7\u001b[0m \u001b[0;34m\u001b[0m\u001b[0m\n\u001b[0;32m----> 8\u001b[0;31m from ._classification_threshold import (\n\u001b[0m\u001b[1;32m      9\u001b[0m     \u001b[0mFixedThresholdClassifier\u001b[0m\u001b[0;34m,\u001b[0m\u001b[0;34m\u001b[0m\u001b[0;34m\u001b[0m\u001b[0m\n\u001b[1;32m     10\u001b[0m     \u001b[0mTunedThresholdClassifierCV\u001b[0m\u001b[0;34m,\u001b[0m\u001b[0;34m\u001b[0m\u001b[0;34m\u001b[0m\u001b[0m\n",
            "\u001b[0;32m/usr/local/lib/python3.11/dist-packages/sklearn/model_selection/_classification_threshold.py\u001b[0m in \u001b[0;36m<module>\u001b[0;34m\u001b[0m\n\u001b[1;32m     15\u001b[0m )\n\u001b[1;32m     16\u001b[0m \u001b[0;32mfrom\u001b[0m \u001b[0;34m.\u001b[0m\u001b[0;34m.\u001b[0m\u001b[0mexceptions\u001b[0m \u001b[0;32mimport\u001b[0m \u001b[0mNotFittedError\u001b[0m\u001b[0;34m\u001b[0m\u001b[0;34m\u001b[0m\u001b[0m\n\u001b[0;32m---> 17\u001b[0;31m from ..metrics import (\n\u001b[0m\u001b[1;32m     18\u001b[0m     \u001b[0mcheck_scoring\u001b[0m\u001b[0;34m,\u001b[0m\u001b[0;34m\u001b[0m\u001b[0;34m\u001b[0m\u001b[0m\n\u001b[1;32m     19\u001b[0m     \u001b[0mget_scorer_names\u001b[0m\u001b[0;34m,\u001b[0m\u001b[0;34m\u001b[0m\u001b[0;34m\u001b[0m\u001b[0m\n",
            "\u001b[0;32m/usr/local/lib/python3.11/dist-packages/sklearn/metrics/__init__.py\u001b[0m in \u001b[0;36m<module>\u001b[0;34m\u001b[0m\n\u001b[1;32m     30\u001b[0m \u001b[0;32mfrom\u001b[0m \u001b[0;34m.\u001b[0m\u001b[0m_plot\u001b[0m\u001b[0;34m.\u001b[0m\u001b[0mconfusion_matrix\u001b[0m \u001b[0;32mimport\u001b[0m \u001b[0mConfusionMatrixDisplay\u001b[0m\u001b[0;34m\u001b[0m\u001b[0;34m\u001b[0m\u001b[0m\n\u001b[1;32m     31\u001b[0m \u001b[0;32mfrom\u001b[0m \u001b[0;34m.\u001b[0m\u001b[0m_plot\u001b[0m\u001b[0;34m.\u001b[0m\u001b[0mdet_curve\u001b[0m \u001b[0;32mimport\u001b[0m \u001b[0mDetCurveDisplay\u001b[0m\u001b[0;34m\u001b[0m\u001b[0;34m\u001b[0m\u001b[0m\n\u001b[0;32m---> 32\u001b[0;31m \u001b[0;32mfrom\u001b[0m \u001b[0;34m.\u001b[0m\u001b[0m_plot\u001b[0m\u001b[0;34m.\u001b[0m\u001b[0mprecision_recall_curve\u001b[0m \u001b[0;32mimport\u001b[0m \u001b[0mPrecisionRecallDisplay\u001b[0m\u001b[0;34m\u001b[0m\u001b[0;34m\u001b[0m\u001b[0m\n\u001b[0m\u001b[1;32m     33\u001b[0m \u001b[0;32mfrom\u001b[0m \u001b[0;34m.\u001b[0m\u001b[0m_plot\u001b[0m\u001b[0;34m.\u001b[0m\u001b[0mregression\u001b[0m \u001b[0;32mimport\u001b[0m \u001b[0mPredictionErrorDisplay\u001b[0m\u001b[0;34m\u001b[0m\u001b[0;34m\u001b[0m\u001b[0m\n\u001b[1;32m     34\u001b[0m \u001b[0;32mfrom\u001b[0m \u001b[0;34m.\u001b[0m\u001b[0m_plot\u001b[0m\u001b[0;34m.\u001b[0m\u001b[0mroc_curve\u001b[0m \u001b[0;32mimport\u001b[0m \u001b[0mRocCurveDisplay\u001b[0m\u001b[0;34m\u001b[0m\u001b[0;34m\u001b[0m\u001b[0m\n",
            "\u001b[0;32m/usr/local/lib/python3.11/dist-packages/sklearn/metrics/_plot/precision_recall_curve.py\u001b[0m in \u001b[0;36m<module>\u001b[0;34m\u001b[0m\n\u001b[1;32m      4\u001b[0m \u001b[0;32mfrom\u001b[0m \u001b[0mcollections\u001b[0m \u001b[0;32mimport\u001b[0m \u001b[0mCounter\u001b[0m\u001b[0;34m\u001b[0m\u001b[0;34m\u001b[0m\u001b[0m\n\u001b[1;32m      5\u001b[0m \u001b[0;34m\u001b[0m\u001b[0m\n\u001b[0;32m----> 6\u001b[0;31m from ...utils._plotting import (\n\u001b[0m\u001b[1;32m      7\u001b[0m     \u001b[0m_BinaryClassifierCurveDisplayMixin\u001b[0m\u001b[0;34m,\u001b[0m\u001b[0;34m\u001b[0m\u001b[0;34m\u001b[0m\u001b[0m\n\u001b[1;32m      8\u001b[0m     \u001b[0m_despine\u001b[0m\u001b[0;34m,\u001b[0m\u001b[0;34m\u001b[0m\u001b[0;34m\u001b[0m\u001b[0m\n",
            "\u001b[0;31mImportError\u001b[0m: cannot import name '_despine' from 'sklearn.utils._plotting' (/usr/local/lib/python3.11/dist-packages/sklearn/utils/_plotting.py)",
            "",
            "\u001b[0;31m---------------------------------------------------------------------------\u001b[0;32m\nNOTE: If your import is failing due to a missing package, you can\nmanually install dependencies using either !pip or !apt.\n\nTo view examples of installing some common dependencies, click the\n\"Open Examples\" button below.\n\u001b[0;31m---------------------------------------------------------------------------\u001b[0m\n"
          ],
          "errorDetails": {
            "actions": [
              {
                "action": "open_url",
                "actionText": "Open Examples",
                "url": "/notebooks/snippets/importing_libraries.ipynb"
              }
            ]
          }
        }
      ],
      "source": [
        "import pandas as pd\n",
        "import numpy as np\n",
        "import seaborn as sns\n",
        "import matplotlib.pyplot as plt\n",
        "from sklearn.model_selection import train_test_split\n",
        "from google.colab import drive\n",
        "drive.mount('/content/drive')\n",
        "\n",
        "data = pd.read_csv('/content/drive/MyDrive/machine learning/AMIT/Course 2 (Data Science)/Assignments/Project/bank.csv')\n",
        "df = data.copy()"
      ]
    },
    {
      "cell_type": "markdown",
      "source": [
        "Set Data Type"
      ],
      "metadata": {
        "id": "7ShtCnp5nAiv"
      }
    },
    {
      "cell_type": "code",
      "source": [
        "cat_col = ['job', 'marital', 'education', 'housing', 'loan', 'contact', 'day', 'month', 'deposit']\n",
        "num_col = ['age', 'balance', 'duration', 'campaign', 'pdays', 'previous']"
      ],
      "metadata": {
        "id": "7BwFnJrMmyTC"
      },
      "execution_count": null,
      "outputs": []
    },
    {
      "cell_type": "code",
      "source": [
        "df[cat_col] = df[cat_col].astype('category')"
      ],
      "metadata": {
        "id": "OSlAPhZHm-pe"
      },
      "execution_count": null,
      "outputs": []
    },
    {
      "cell_type": "markdown",
      "source": [
        "Info & Summarization"
      ],
      "metadata": {
        "id": "1wo3w-N1nScP"
      }
    },
    {
      "cell_type": "code",
      "source": [
        "display(data.head())"
      ],
      "metadata": {
        "id": "oghp3v8lnP7u"
      },
      "execution_count": null,
      "outputs": []
    },
    {
      "cell_type": "code",
      "source": [
        "print(df.info())"
      ],
      "metadata": {
        "id": "9nw8vJhInfLu"
      },
      "execution_count": null,
      "outputs": []
    },
    {
      "cell_type": "code",
      "source": [
        "data_type = df.dtypes\n",
        "unique_val = df.nunique()\n",
        "display(pd.DataFrame({'Data Type' : data_type,\n",
        "             'unique val' : unique_val}).T)"
      ],
      "metadata": {
        "id": "ZbcdqLzFnnst"
      },
      "execution_count": null,
      "outputs": []
    },
    {
      "cell_type": "code",
      "source": [
        "display(pd.DataFrame(df.isnull().sum()).T)"
      ],
      "metadata": {
        "id": "Qoxn_bWcnqXt"
      },
      "execution_count": null,
      "outputs": []
    },
    {
      "cell_type": "code",
      "source": [
        "for i in cat_col:\n",
        "  print(f'########### {i} ###########')\n",
        "  print(df[i].unique())\n",
        "  print()"
      ],
      "metadata": {
        "id": "aczA3RMZnr2N"
      },
      "execution_count": null,
      "outputs": []
    },
    {
      "cell_type": "code",
      "source": [
        "df.describe()"
      ],
      "metadata": {
        "id": "CDSMxsHznwQ9"
      },
      "execution_count": null,
      "outputs": []
    },
    {
      "cell_type": "code",
      "source": [
        "def Boxplot(df):\n",
        "  num_col = df.select_dtypes(include = ['number'])\n",
        "  plt.figure(figsize = (20,5))\n",
        "  for indx, col in enumerate(num_col, start = 1):\n",
        "    plt.subplot(1, len(num_col.columns), indx)\n",
        "    sns.boxplot(x = df[col])\n",
        "  # print(len(num_col.columns))"
      ],
      "metadata": {
        "id": "BLhnox0Sn0vt"
      },
      "execution_count": null,
      "outputs": []
    },
    {
      "cell_type": "code",
      "source": [
        "Boxplot(df)"
      ],
      "metadata": {
        "id": "etHv_Yonn8ns"
      },
      "execution_count": null,
      "outputs": []
    },
    {
      "cell_type": "code",
      "source": [
        "plt.title('Orignal Data')\n",
        "sns.scatterplot(x = 'age', y= 'balance', data = df)"
      ],
      "metadata": {
        "id": "K_IldHS5n-TM"
      },
      "execution_count": null,
      "outputs": []
    },
    {
      "cell_type": "code",
      "source": [
        "corr = df.corr(numeric_only= True)\n",
        "sns.heatmap(corr, annot = True, cmap = 'Blues')"
      ],
      "metadata": {
        "id": "YyltNjdixlv_"
      },
      "execution_count": null,
      "outputs": []
    },
    {
      "cell_type": "markdown",
      "source": [
        "Remove duplicates & outliers"
      ],
      "metadata": {
        "id": "SB6juSKIoGld"
      }
    },
    {
      "cell_type": "code",
      "source": [
        "def remove_outlier(df, cols = ['age']):\n",
        "  # num_col = df.select_dtypes(include = ['number'])\n",
        "  num_col = df[cols]\n",
        "  # print(num_col)\n",
        "  for indx, col in enumerate(num_col):\n",
        "    Q1 = df[col].quantile(0.25)\n",
        "    Q3 = df[col].quantile(0.75)\n",
        "    IQR = Q3 - Q1\n",
        "    Upper_limit = Q3 + (1.5 * IQR)\n",
        "    Lower_limit = Q1 - (1.5 * IQR)\n",
        "    print(Upper_limit)\n",
        "    print(Lower_limit)\n",
        "    # df[col] = df[col].replace((df[df[col] > Upper_limit]).values, Upper_limit)\n",
        "    upper_outlier = df[df[col] >= Upper_limit][col].index\n",
        "    # lower_outlier = df[df[col] <= Lower_limit][col].index\n",
        "    print(upper_outlier)\n",
        "    df.drop(index = upper_outlier, inplace = True)\n",
        "    df.reset_index(drop = True)\n",
        "    # df[col].drop(index = lower_outlier, inplace = True)\n",
        "  return df"
      ],
      "metadata": {
        "id": "Xsgrto8goDld"
      },
      "execution_count": null,
      "outputs": []
    },
    {
      "cell_type": "code",
      "source": [
        "remove_outlier(df)"
      ],
      "metadata": {
        "id": "5vnnGeW9oXWM"
      },
      "execution_count": null,
      "outputs": []
    },
    {
      "cell_type": "markdown",
      "source": [
        "I will remove and data sample with a nigative balance\n",
        "\n",
        "becaue wy the bank will market anything for them"
      ],
      "metadata": {
        "id": "mwnVyj4GwaCw"
      }
    },
    {
      "cell_type": "code",
      "source": [
        "df.drop(df[df['balance'] <= 0]['balance'].index, inplace = True)"
      ],
      "metadata": {
        "id": "fHARUwTkvYOn"
      },
      "execution_count": null,
      "outputs": []
    },
    {
      "cell_type": "code",
      "source": [
        "Boxplot(df)"
      ],
      "metadata": {
        "id": "uAeUj4xbwd1n"
      },
      "execution_count": null,
      "outputs": []
    },
    {
      "cell_type": "code",
      "source": [
        "plt.title('Orignal Data')\n",
        "sns.scatterplot(x = 'age', y= 'balance', data = df)"
      ],
      "metadata": {
        "id": "pzeULL4swocm"
      },
      "execution_count": null,
      "outputs": []
    },
    {
      "cell_type": "code",
      "source": [
        "df"
      ],
      "metadata": {
        "id": "B6d2ex5jwtVn"
      },
      "execution_count": null,
      "outputs": []
    },
    {
      "cell_type": "markdown",
      "source": [
        "Encoding"
      ],
      "metadata": {
        "id": "6e3hJ4zRxROY"
      }
    },
    {
      "cell_type": "code",
      "source": [
        "dfc = df.copy()\n",
        "dfc['job'].unique()"
      ],
      "metadata": {
        "id": "rGh6b93-w3L3"
      },
      "execution_count": null,
      "outputs": []
    },
    {
      "cell_type": "code",
      "source": [
        "from sklearn.preprocessing import OrdinalEncoder,LabelEncoder\n",
        "Ordinal_encoder = OrdinalEncoder(categories=[['jan', 'feb', 'mar', 'apr', 'may', 'jun', 'jul', 'aug', 'sep', 'oct', 'nov', 'dec'], ['no', 'yes'], ['no', 'yes'], ['no', 'yes']])\n",
        "dfc[['month', 'housing', 'loan', 'deposit']] = Ordinal_encoder.fit_transform(df[['month', 'housing', 'loan', 'deposit']])"
      ],
      "metadata": {
        "id": "TQfxojygxwz3"
      },
      "execution_count": null,
      "outputs": []
    },
    {
      "cell_type": "code",
      "source": [
        "dfc"
      ],
      "metadata": {
        "id": "ZNgTSJjN19yo"
      },
      "execution_count": null,
      "outputs": []
    },
    {
      "cell_type": "code",
      "source": [
        "Label_encoder = LabelEncoder()\n",
        "dfc['marital'] = Label_encoder.fit_transform(dfc['marital'])\n",
        "dfc['education'] = Label_encoder.fit_transform(dfc['education'])\n",
        "dfc['contact'] = Label_encoder.fit_transform(dfc['contact'])"
      ],
      "metadata": {
        "id": "mbD2cdTV2Nuo"
      },
      "execution_count": null,
      "outputs": []
    },
    {
      "cell_type": "code",
      "source": [
        "dfc"
      ],
      "metadata": {
        "id": "PuESz9VB5k3O"
      },
      "execution_count": null,
      "outputs": []
    },
    {
      "cell_type": "code",
      "source": [
        "!pip install category_encoders"
      ],
      "metadata": {
        "id": "DEaioBN36IQs"
      },
      "execution_count": null,
      "outputs": []
    },
    {
      "cell_type": "code",
      "source": [
        "from category_encoders import BinaryEncoder\n",
        "\n",
        "Binary_encoder = BinaryEncoder(cols = ['job'])\n",
        "dfc = Binary_encoder.fit_transform(dfc)"
      ],
      "metadata": {
        "id": "IYIbau506jZM"
      },
      "execution_count": null,
      "outputs": []
    },
    {
      "cell_type": "code",
      "source": [
        "dfc"
      ],
      "metadata": {
        "id": "3iSF_bbX6srs"
      },
      "execution_count": null,
      "outputs": []
    },
    {
      "cell_type": "code",
      "source": [
        "dfc"
      ],
      "metadata": {
        "id": "jV7GkBXP7Rvr"
      },
      "execution_count": null,
      "outputs": []
    },
    {
      "cell_type": "markdown",
      "source": [
        "Splite Data"
      ],
      "metadata": {
        "id": "SIxKWrdUx5vn"
      }
    },
    {
      "cell_type": "code",
      "source": [
        "pip install sklearn"
      ],
      "metadata": {
        "id": "cVvxr1rNXbxP"
      },
      "execution_count": null,
      "outputs": []
    },
    {
      "cell_type": "code",
      "source": [
        "from sklearn.model_selection import train_test_split\n",
        "X = dfc.drop(columns= 'deposit')\n",
        "y = dfc['deposit']\n",
        "X_train, X_test, y_train, y_test = train_test_split(X, y, test_size = 0.2, random_state=42)"
      ],
      "metadata": {
        "id": "L9DdCaRlx-Zf"
      },
      "execution_count": null,
      "outputs": []
    },
    {
      "cell_type": "code",
      "source": [
        "X_train"
      ],
      "metadata": {
        "id": "4NKFAbRL8M-a"
      },
      "execution_count": null,
      "outputs": []
    },
    {
      "cell_type": "code",
      "source": [
        "num_col = X_train.select_dtypes(include=['number'])\n",
        "selected_col_train = X_train[['age', 'balance', 'duration', 'campaign', 'pdays', 'previous']]\n",
        "num_col"
      ],
      "metadata": {
        "id": "a3ia83oB8PRr"
      },
      "execution_count": null,
      "outputs": []
    },
    {
      "cell_type": "code",
      "source": [
        "from sklearn.preprocessing import StandardScaler\n",
        "\n",
        "std_scaler = StandardScaler()\n",
        "scaled_col_train = std_scaler.fit_transform(selected_col_train)\n",
        "X_train[selected_col_train.columns] = scaled_col_train"
      ],
      "metadata": {
        "id": "a6-lSqCP8XTq"
      },
      "execution_count": null,
      "outputs": []
    },
    {
      "cell_type": "code",
      "source": [
        "X_train"
      ],
      "metadata": {
        "id": "SpBFHo0-9Hr5"
      },
      "execution_count": null,
      "outputs": []
    },
    {
      "cell_type": "code",
      "source": [
        "selected_col_test = X_test[['age', 'balance', 'duration', 'campaign', 'pdays', 'previous']]\n",
        "scaled_col_test = std_scaler.transform(selected_col_test)\n",
        "X_test[selected_col_train.columns] = scaled_col_test"
      ],
      "metadata": {
        "id": "9LeYYdUJ9NWJ"
      },
      "execution_count": null,
      "outputs": []
    },
    {
      "cell_type": "code",
      "source": [
        "num_col"
      ],
      "metadata": {
        "id": "PoBGv9_i_tGw"
      },
      "execution_count": null,
      "outputs": []
    },
    {
      "cell_type": "code",
      "source": [],
      "metadata": {
        "id": "VdqCeiqtBiob"
      },
      "execution_count": null,
      "outputs": []
    }
  ]
}